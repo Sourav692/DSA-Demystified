{
 "cells": [
  {
   "cell_type": "markdown",
   "metadata": {},
   "source": [
    "https://leetcode.com/problems/reverse-words-in-a-string/"
   ]
  },
  {
   "cell_type": "markdown",
   "metadata": {},
   "source": [
    "##### Using Built-In Function"
   ]
  },
  {
   "cell_type": "code",
   "execution_count": 10,
   "metadata": {},
   "outputs": [],
   "source": [
    "class Solution:\n",
    "    def reverseWords(self, s: str) -> str:\n",
    "        return \" \".join(reversed(s.split()))"
   ]
  },
  {
   "cell_type": "markdown",
   "metadata": {},
   "source": [
    "Time complexity O(n)\n",
    "\n",
    "Space complexity: O(n)"
   ]
  },
  {
   "cell_type": "markdown",
   "metadata": {},
   "source": [
    "Reverse the Whole String and Then Reverse Each Word"
   ]
  },
  {
   "cell_type": "code",
   "execution_count": 11,
   "metadata": {},
   "outputs": [],
   "source": [
    "class Solution:\n",
    "    def trim_spaces(self, s: str) -> list:\n",
    "        left, right = 0, len(s) - 1\n",
    "        # remove leading spaces\n",
    "        while left <= right and s[left] == ' ':\n",
    "            left += 1\n",
    "        \n",
    "        # remove trailing spaces\n",
    "        while left <= right and s[right] == ' ':\n",
    "            right -= 1\n",
    "        \n",
    "        # reduce multiple spaces to single one\n",
    "        output = []\n",
    "        while left <= right:\n",
    "            if s[left] != ' ':\n",
    "                output.append(s[left])\n",
    "            elif output[-1] != ' ':\n",
    "                output.append(s[left])\n",
    "            left += 1\n",
    "        \n",
    "        return output\n",
    "            \n",
    "    def reverse(self, l: list, left: int, right: int) -> None:\n",
    "        while left < right:\n",
    "            l[left], l[right] = l[right], l[left]\n",
    "            left, right = left + 1, right - 1\n",
    "            \n",
    "    def reverse_each_word(self, l: list) -> None:\n",
    "        n = len(l)\n",
    "        start = end = 0\n",
    "        \n",
    "        while start < n:\n",
    "            # go to the end of the word\n",
    "            while end < n and l[end] != ' ':\n",
    "                end += 1\n",
    "            # reverse the word\n",
    "            self.reverse(l, start, end - 1)\n",
    "            # move to the next word\n",
    "            start = end + 1\n",
    "            end += 1\n",
    "                \n",
    "    def reverseWords(self, s: str) -> str:\n",
    "        # converst string to char array \n",
    "        # and trim spaces at the same time\n",
    "        l = self.trim_spaces(s)\n",
    "        \n",
    "        # reverse the whole string\n",
    "        self.reverse(l, 0, len(l) - 1)\n",
    "        \n",
    "        # reverse each word\n",
    "        self.reverse_each_word(l)\n",
    "        \n",
    "        return ''.join(l)"
   ]
  },
  {
   "cell_type": "code",
   "execution_count": null,
   "metadata": {},
   "outputs": [],
   "source": []
  }
 ],
 "metadata": {
  "kernelspec": {
   "display_name": "Python 3.8.8 ('base')",
   "language": "python",
   "name": "python3"
  },
  "language_info": {
   "codemirror_mode": {
    "name": "ipython",
    "version": 3
   },
   "file_extension": ".py",
   "mimetype": "text/x-python",
   "name": "python",
   "nbconvert_exporter": "python",
   "pygments_lexer": "ipython3",
   "version": "3.8.8"
  },
  "orig_nbformat": 4,
  "vscode": {
   "interpreter": {
    "hash": "e4cce46d6be9934fbd27f9ca0432556941ea5bdf741d4f4d64c6cd7f8dfa8fba"
   }
  }
 },
 "nbformat": 4,
 "nbformat_minor": 2
}
